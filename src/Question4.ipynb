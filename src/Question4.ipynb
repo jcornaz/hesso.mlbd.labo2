{
 "metadata": {
  "name": "",
  "signature": "sha256:dca6c248d3ec9ad664fa848aa663d2e6fc9b6682c079e68950fc389b1d2d8471"
 },
 "nbformat": 3,
 "nbformat_minor": 0,
 "worksheets": [
  {
   "cells": [
    {
     "cell_type": "code",
     "collapsed": false,
     "input": [
      "import mlbd\n",
      "meta = mlbd.load_meta()\n",
      "import answers as ans\n",
      "%pylab inline --no-import-all\n",
      "\n",
      "reload( ans )\n",
      "\n",
      "import sklearn as sk\n",
      "\n",
      "import pybrain\n",
      "from pybrain.datasets import ClassificationDataSet\n",
      "from sklearn.preprocessing import MultiLabelBinarizer\n",
      "\n",
      "from pybrain.tools.shortcuts     import buildNetwork\n",
      "from pybrain.supervised.trainers import BackpropTrainer\n",
      "from pybrain.structure.modules   import SoftmaxLayer\n",
      "from pybrain.utilities           import percentError\n",
      "\n",
      "# turns integer labels vector like [0, 2, 3, 2] into a binary\n",
      "# matrix [[1, 0, 0, 0],\n",
      "#         [0, 0, 1, 0],\n",
      "#         [0, 0, 0, 1],\n",
      "#         [0, 0, 1, 0]]\n",
      "\n",
      "le = ans.create_classlabel_encoder(meta)\n",
      "features, classes = ans.extract_dataset(meta,le)"
     ],
     "language": "python",
     "metadata": {},
     "outputs": [
      {
       "output_type": "stream",
       "stream": "stdout",
       "text": [
        "Populating the interactive namespace from numpy and matplotlib\n"
       ]
      }
     ],
     "prompt_number": 2
    },
    {
     "cell_type": "code",
     "collapsed": false,
     "input": [
      "import sklearn.metrics as skmetrics\n",
      "from sklearn.metrics import confusion_matrix\n",
      "import pylab as pl\n",
      "import matplotlib.cm as cm\n",
      "import operator\n",
      "import time\n",
      "from pybrain.structure import TanhLayer\n",
      "\n",
      "reload( mlbd )\n",
      "\n",
      "X_train, X_test, y_train, y_test = sk.cross_validation.train_test_split(features, classes, test_size=0.2)\n",
      "\n",
      "binarizer = MultiLabelBinarizer().fit(classes.reshape(-1, 1))\n",
      "\n",
      "ds_train = mlbd.pybrain_ds_from_Xy(X_train, y_train, binarizer, le)\n",
      "ds_test = mlbd.pybrain_ds_from_Xy(X_test, y_test, binarizer, le)\n",
      "\n",
      "mlbd.print_ds(ds_train)\n",
      "mlbd.print_ds(ds_test)\n",
      "\n",
      "n_hidden_units = 17\n",
      "\n",
      "fnn = buildNetwork(ds_train.indim, n_hidden_units, ds_train.outdim, outclass=SoftmaxLayer,bias=True)\n",
      "\n",
      "results = []\n",
      "\n",
      "trainer = BackpropTrainer(fnn, ds_train, learningrate = 0.00001, momentum = 0.9999 )\n",
      "epochs = range(0,90)\n",
      "\n",
      "for i in epochs:\n",
      "    trainer.trainEpochs(1)\n",
      "    result_train = percentError(trainer.testOnClassData(),ds_train['class'] )\n",
      "    result_test = percentError(trainer.testOnClassData(dataset=ds_test ), ds_test['class'] )\n",
      "    results.append([result_train, result_test])\n",
      "\n",
      "pl.figure( figsize=(10,10) )\n",
      "pl.plot( epochs, results)\n",
      "\n",
      "out = fnn.activateOnDataset(ds_test)\n",
      "out = out.argmax(axis=1)  # the highest output activation gives the class\n",
      "y_pred_nn = out.reshape(y_test.shape)\n",
      "\n",
      "print skmetrics.precision_score( y_test,y_pred_nn)\n",
      "\n",
      "report = ans.plot_report(y_pred_nn, y_test, le)"
     ],
     "language": "python",
     "metadata": {},
     "outputs": []
    },
    {
     "cell_type": "code",
     "collapsed": false,
     "input": [],
     "language": "python",
     "metadata": {},
     "outputs": [],
     "prompt_number": 16
    }
   ],
   "metadata": {}
  }
 ]
}