{
 "metadata": {
  "name": "",
  "signature": "sha256:73d7d89419e489e6fba7c9fe788c8fba8e9429b49d6f690061963c65571db7f2"
 },
 "nbformat": 3,
 "nbformat_minor": 0,
 "worksheets": [
  {
   "cells": [
    {
     "cell_type": "code",
     "collapsed": false,
     "input": [],
     "language": "python",
     "metadata": {},
     "outputs": [
      {
       "ename": "NameError",
       "evalue": "name 'ds_train' is not defined",
       "output_type": "pyerr",
       "traceback": [
        "\u001b[1;31m---------------------------------------------------------------------------\u001b[0m\n\u001b[1;31mNameError\u001b[0m                                 Traceback (most recent call last)",
        "\u001b[1;32m<ipython-input-1-70fb33f62878>\u001b[0m in \u001b[0;36m<module>\u001b[1;34m()\u001b[0m\n\u001b[0;32m      4\u001b[0m \u001b[1;32mfrom\u001b[0m \u001b[0mpybrain\u001b[0m\u001b[1;33m.\u001b[0m\u001b[0mutilities\u001b[0m           \u001b[1;32mimport\u001b[0m \u001b[0mpercentError\u001b[0m\u001b[1;33m\u001b[0m\u001b[0m\n\u001b[0;32m      5\u001b[0m \u001b[1;33m\u001b[0m\u001b[0m\n\u001b[1;32m----> 6\u001b[1;33m \u001b[0mfnn\u001b[0m \u001b[1;33m=\u001b[0m \u001b[0mbuildNetwork\u001b[0m\u001b[1;33m(\u001b[0m\u001b[0mds_train\u001b[0m\u001b[1;33m.\u001b[0m\u001b[0mindim\u001b[0m\u001b[1;33m,\u001b[0m \u001b[0mn_hidden_units\u001b[0m\u001b[1;33m,\u001b[0m \u001b[0mds_train\u001b[0m\u001b[1;33m.\u001b[0m\u001b[0moutdim\u001b[0m\u001b[1;33m,\u001b[0m \u001b[0moutclass\u001b[0m\u001b[1;33m=\u001b[0m\u001b[0mSoftmaxLayer\u001b[0m\u001b[1;33m)\u001b[0m\u001b[1;33m\u001b[0m\u001b[0m\n\u001b[0m\u001b[0;32m      7\u001b[0m \u001b[0mresult_train\u001b[0m \u001b[1;33m=\u001b[0m \u001b[0mpercentError\u001b[0m\u001b[1;33m(\u001b[0m\u001b[0mtrainer\u001b[0m\u001b[1;33m.\u001b[0m\u001b[0mtestOnClassData\u001b[0m\u001b[1;33m(\u001b[0m\u001b[1;33m)\u001b[0m\u001b[1;33m,\u001b[0m\u001b[0mds_train\u001b[0m\u001b[1;33m[\u001b[0m\u001b[1;34m'class'\u001b[0m\u001b[1;33m]\u001b[0m \u001b[1;33m)\u001b[0m\u001b[1;33m\u001b[0m\u001b[0m\n\u001b[0;32m      8\u001b[0m \u001b[0mresult_test\u001b[0m \u001b[1;33m=\u001b[0m \u001b[0mpercentError\u001b[0m\u001b[1;33m(\u001b[0m\u001b[0mtrainer\u001b[0m\u001b[1;33m.\u001b[0m\u001b[0mtestOnClassData\u001b[0m\u001b[1;33m(\u001b[0m\u001b[0mdataset\u001b[0m\u001b[1;33m=\u001b[0m\u001b[0mds_test\u001b[0m \u001b[1;33m)\u001b[0m\u001b[1;33m,\u001b[0m \u001b[0mds_test\u001b[0m\u001b[1;33m[\u001b[0m\u001b[1;34m'class'\u001b[0m\u001b[1;33m]\u001b[0m \u001b[1;33m)\u001b[0m\u001b[1;33m\u001b[0m\u001b[0m\n",
        "\u001b[1;31mNameError\u001b[0m: name 'ds_train' is not defined"
       ]
      }
     ],
     "prompt_number": 1
    },
    {
     "cell_type": "code",
     "collapsed": false,
     "input": [
      "import mlbd\n",
      "meta = mlbd.load_meta()\n",
      "%pylab inline --no-import-all\n",
      "\n",
      "import pybrain\n",
      "from pybrain.datasets import ClassificationDataSet\n",
      "from sklearn.preprocessing import MultiLabelBinarizer\n",
      "\n",
      "from pybrain.tools.shortcuts     import buildNetwork\n",
      "from pybrain.supervised.trainers import BackpropTrainer\n",
      "from pybrain.structure.modules   import SoftmaxLayer\n",
      "from pybrain.utilities           import percentError\n",
      "\n",
      "# turns integer labels vector like [0, 2, 3, 2] into a binary\n",
      "# matrix [[1, 0, 0, 0],\n",
      "#         [0, 0, 1, 0],\n",
      "#         [0, 0, 0, 1],\n",
      "#         [0, 0, 1, 0]]\n",
      "\n",
      "X = np.array([1,2,3,4,5,6,7,5])#features\n",
      "y = np.array([3,2,4,8,5,3,2,5])#classe\n",
      "\n",
      "#split les valeurs de test et d'entrainement\n",
      "test_percent = 0.25\n",
      "X_split = int(len(X)*test_percent)\n",
      "y_split = int(len(y)*test_percent)\n",
      "\n",
      "X_train = X[0:X_split]\n",
      "X_test  = X[X_split:]\n",
      "y_train = y[0:y_split]\n",
      "y_test  = y[y_split:]\n",
      "\n",
      "binarizer = MultiLabelBinarizer().fit(y.reshape(-1, 1))\n",
      "\n",
      "def pybrain_ds_from_Xy(X, y, binarizer):\n",
      "    \"\"\"\n",
      "    Args:\n",
      "        binarizer: A MultiLabelBinarizer instance\n",
      "    \"\"\"\n",
      "    ds = ClassificationDataSet(X.shape[1], nb_classes=len(lencoder.classes_), class_labels=lencoder.classes_)\n",
      "    ds.setField('input', X)\n",
      "    ds.setField('class', y.reshape(-1, 1))\n",
      "    ds.setField('target', binarizer.transform(y.reshape(-1, 1)))\n",
      "    \n",
      "    #print '--'\n",
      "    #print \"class  :\\n\", ds['class'][5:10]\n",
      "    #print \"target :\\n\", ds['target'][5:10]\n",
      "    #print \"y      :\\n\", y[5:10]\n",
      "    \n",
      "    return ds\n",
      "\n",
      "def print_ds(ds):\n",
      "    print \"Number of training patterns: \", len(ds)\n",
      "    print \"Input and output dimensions: \", ds.indim, ds.outdim\n",
      "    print \"First sample (input, target, class):\"\n",
      "    print ds['input'][10], ds['target'][10], ds['class'][10]\n",
      "    print ds['input'][55], ds['target'][55], ds['class'][55]\n",
      "\n",
      "ds_train = pybrain_ds_from_Xy(X_train, y_train, binarizer)\n",
      "ds_test = pybrain_ds_from_Xy(X_test, y_test, binarizer)\n",
      "\n",
      "print '-- train'\n",
      "print_ds(ds_train)\n",
      "print '-- test'\n",
      "print_ds(ds_test)\n",
      "\n",
      "fnn = buildNetwork(ds_train.indim, n_hidden_units, ds_train.outdim, outclass=SoftmaxLayer)\n",
      "result_train = percentError(trainer.testOnClassData(),ds_train['class'] )\n",
      "result_test = percentError(trainer.testOnClassData(dataset=ds_test ), ds_test['class'] )"
     ],
     "language": "python",
     "metadata": {},
     "outputs": [
      {
       "output_type": "stream",
       "stream": "stdout",
       "text": [
        "Populating the interactive namespace from numpy and matplotlib\n"
       ]
      },
      {
       "ename": "IndexError",
       "evalue": "tuple index out of range",
       "output_type": "pyerr",
       "traceback": [
        "\u001b[1;31m---------------------------------------------------------------------------\u001b[0m\n\u001b[1;31mIndexError\u001b[0m                                Traceback (most recent call last)",
        "\u001b[1;32m<ipython-input-4-d37937d083a8>\u001b[0m in \u001b[0;36m<module>\u001b[1;34m()\u001b[0m\n\u001b[0;32m     57\u001b[0m     \u001b[1;32mprint\u001b[0m \u001b[0mds\u001b[0m\u001b[1;33m[\u001b[0m\u001b[1;34m'input'\u001b[0m\u001b[1;33m]\u001b[0m\u001b[1;33m[\u001b[0m\u001b[1;36m55\u001b[0m\u001b[1;33m]\u001b[0m\u001b[1;33m,\u001b[0m \u001b[0mds\u001b[0m\u001b[1;33m[\u001b[0m\u001b[1;34m'target'\u001b[0m\u001b[1;33m]\u001b[0m\u001b[1;33m[\u001b[0m\u001b[1;36m55\u001b[0m\u001b[1;33m]\u001b[0m\u001b[1;33m,\u001b[0m \u001b[0mds\u001b[0m\u001b[1;33m[\u001b[0m\u001b[1;34m'class'\u001b[0m\u001b[1;33m]\u001b[0m\u001b[1;33m[\u001b[0m\u001b[1;36m55\u001b[0m\u001b[1;33m]\u001b[0m\u001b[1;33m\u001b[0m\u001b[0m\n\u001b[0;32m     58\u001b[0m \u001b[1;33m\u001b[0m\u001b[0m\n\u001b[1;32m---> 59\u001b[1;33m \u001b[0mds_train\u001b[0m \u001b[1;33m=\u001b[0m \u001b[0mpybrain_ds_from_Xy\u001b[0m\u001b[1;33m(\u001b[0m\u001b[0mX_train\u001b[0m\u001b[1;33m,\u001b[0m \u001b[0my_train\u001b[0m\u001b[1;33m,\u001b[0m \u001b[0mbinarizer\u001b[0m\u001b[1;33m)\u001b[0m\u001b[1;33m\u001b[0m\u001b[0m\n\u001b[0m\u001b[0;32m     60\u001b[0m \u001b[0mds_test\u001b[0m \u001b[1;33m=\u001b[0m \u001b[0mpybrain_ds_from_Xy\u001b[0m\u001b[1;33m(\u001b[0m\u001b[0mX_test\u001b[0m\u001b[1;33m,\u001b[0m \u001b[0my_test\u001b[0m\u001b[1;33m,\u001b[0m \u001b[0mbinarizer\u001b[0m\u001b[1;33m)\u001b[0m\u001b[1;33m\u001b[0m\u001b[0m\n\u001b[0;32m     61\u001b[0m \u001b[1;33m\u001b[0m\u001b[0m\n",
        "\u001b[1;32m<ipython-input-4-d37937d083a8>\u001b[0m in \u001b[0;36mpybrain_ds_from_Xy\u001b[1;34m(X, y, binarizer)\u001b[0m\n\u001b[0;32m     38\u001b[0m         \u001b[0mbinarizer\u001b[0m\u001b[1;33m:\u001b[0m \u001b[0mA\u001b[0m \u001b[0mMultiLabelBinarizer\u001b[0m \u001b[0minstance\u001b[0m\u001b[1;33m\u001b[0m\u001b[0m\n\u001b[0;32m     39\u001b[0m     \"\"\"\n\u001b[1;32m---> 40\u001b[1;33m     \u001b[0mds\u001b[0m \u001b[1;33m=\u001b[0m \u001b[0mClassificationDataSet\u001b[0m\u001b[1;33m(\u001b[0m\u001b[0mX\u001b[0m\u001b[1;33m.\u001b[0m\u001b[0mshape\u001b[0m\u001b[1;33m[\u001b[0m\u001b[1;36m1\u001b[0m\u001b[1;33m]\u001b[0m\u001b[1;33m,\u001b[0m \u001b[0mnb_classes\u001b[0m\u001b[1;33m=\u001b[0m\u001b[0mlen\u001b[0m\u001b[1;33m(\u001b[0m\u001b[0mlencoder\u001b[0m\u001b[1;33m.\u001b[0m\u001b[0mclasses_\u001b[0m\u001b[1;33m)\u001b[0m\u001b[1;33m,\u001b[0m \u001b[0mclass_labels\u001b[0m\u001b[1;33m=\u001b[0m\u001b[0mlencoder\u001b[0m\u001b[1;33m.\u001b[0m\u001b[0mclasses_\u001b[0m\u001b[1;33m)\u001b[0m\u001b[1;33m\u001b[0m\u001b[0m\n\u001b[0m\u001b[0;32m     41\u001b[0m     \u001b[0mds\u001b[0m\u001b[1;33m.\u001b[0m\u001b[0msetField\u001b[0m\u001b[1;33m(\u001b[0m\u001b[1;34m'input'\u001b[0m\u001b[1;33m,\u001b[0m \u001b[0mX\u001b[0m\u001b[1;33m)\u001b[0m\u001b[1;33m\u001b[0m\u001b[0m\n\u001b[0;32m     42\u001b[0m     \u001b[0mds\u001b[0m\u001b[1;33m.\u001b[0m\u001b[0msetField\u001b[0m\u001b[1;33m(\u001b[0m\u001b[1;34m'class'\u001b[0m\u001b[1;33m,\u001b[0m \u001b[0my\u001b[0m\u001b[1;33m.\u001b[0m\u001b[0mreshape\u001b[0m\u001b[1;33m(\u001b[0m\u001b[1;33m-\u001b[0m\u001b[1;36m1\u001b[0m\u001b[1;33m,\u001b[0m \u001b[1;36m1\u001b[0m\u001b[1;33m)\u001b[0m\u001b[1;33m)\u001b[0m\u001b[1;33m\u001b[0m\u001b[0m\n",
        "\u001b[1;31mIndexError\u001b[0m: tuple index out of range"
       ]
      }
     ],
     "prompt_number": 4
    },
    {
     "cell_type": "code",
     "collapsed": false,
     "input": [],
     "language": "python",
     "metadata": {},
     "outputs": []
    }
   ],
   "metadata": {}
  }
 ]
}