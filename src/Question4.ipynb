{
 "metadata": {
  "name": "",
  "signature": "sha256:1958a84310cd7f41c2771fd5d23b1fb74f4a364f742c99f1f0bf915f7d59bd13"
 },
 "nbformat": 3,
 "nbformat_minor": 0,
 "worksheets": [
  {
   "cells": [
    {
     "cell_type": "code",
     "collapsed": false,
     "input": [
      "import mlbd\n",
      "meta = mlbd.load_meta()\n",
      "import answers as ans\n",
      "%pylab inline --no-import-all\n",
      "\n",
      "import pybrain\n",
      "from pybrain.datasets import ClassificationDataSet\n",
      "from sklearn.preprocessing import MultiLabelBinarizer\n",
      "\n",
      "from pybrain.tools.shortcuts     import buildNetwork\n",
      "from pybrain.supervised.trainers import BackpropTrainer\n",
      "from pybrain.structure.modules   import SoftmaxLayer\n",
      "from pybrain.utilities           import percentError\n",
      "\n",
      "# turns integer labels vector like [0, 2, 3, 2] into a binary\n",
      "# matrix [[1, 0, 0, 0],\n",
      "#         [0, 0, 1, 0],\n",
      "#         [0, 0, 0, 1],\n",
      "#         [0, 0, 1, 0]]\n",
      "\n",
      "xtr_dtaset = extract_dataset(meta)\n",
      "\n",
      "X = xtr_dtaset[0]#features\n",
      "y = xtr_dtaset[1]#classe\n",
      "\n",
      "#split les valeurs de test et d'entrainement\n",
      "test_percent = 0.25\n",
      "X_split = int(len(X)*test_percent)\n",
      "y_split = int(len(y)*test_percent)\n",
      "\n",
      "X_train = X[0:X_split]\n",
      "X_test  = X[X_split:]\n",
      "y_train = y[0:y_split]\n",
      "y_test  = y[y_split:]\n",
      "\n",
      "binarizer = MultiLabelBinarizer().fit(y.reshape(-1, 1))\n",
      "\n",
      "def pybrain_ds_from_Xy(X, y, binarizer):\n",
      "    \"\"\"\n",
      "    Args:\n",
      "        binarizer: A MultiLabelBinarizer instance\n",
      "    \"\"\"\n",
      "    ds = ClassificationDataSet(X.shape[1], nb_classes=len(lencoder.classes_), class_labels=lencoder.classes_)\n",
      "    ds.setField('input', X)\n",
      "    ds.setField('class', y.reshape(-1, 1))\n",
      "    ds.setField('target', binarizer.transform(y.reshape(-1, 1)))\n",
      "    \n",
      "    #print '--'\n",
      "    #print \"class  :\\n\", ds['class'][5:10]\n",
      "    #print \"target :\\n\", ds['target'][5:10]\n",
      "    #print \"y      :\\n\", y[5:10]\n",
      "    \n",
      "    return ds\n",
      "\n",
      "def print_ds(ds):\n",
      "    print \"Number of training patterns: \", len(ds)\n",
      "    print \"Input and output dimensions: \", ds.indim, ds.outdim\n",
      "    print \"First sample (input, target, class):\"\n",
      "    print ds['input'][10], ds['target'][10], ds['class'][10]\n",
      "    print ds['input'][55], ds['target'][55], ds['class'][55]\n",
      "\n",
      "ds_train = pybrain_ds_from_Xy(X_train, y_train, binarizer)\n",
      "ds_test = pybrain_ds_from_Xy(X_test, y_test, binarizer)\n",
      "\n",
      "print '-- train'\n",
      "print_ds(ds_train)\n",
      "print '-- test'\n",
      "print_ds(ds_test)\n",
      "\n",
      "fnn = buildNetwork(ds_train.indim, n_hidden_units, ds_train.outdim, outclass=SoftmaxLayer)\n",
      "result_train = percentError(trainer.testOnClassData(),ds_train['class'] )\n",
      "result_test = percentError(trainer.testOnClassData(dataset=ds_test ), ds_test['class'] )"
     ],
     "language": "python",
     "metadata": {},
     "outputs": [
      {
       "output_type": "stream",
       "stream": "stdout",
       "text": [
        "Populating the interactive namespace from numpy and matplotlib\n"
       ]
      },
      {
       "ename": "NameError",
       "evalue": "name 'extract_dataset' is not defined",
       "output_type": "pyerr",
       "traceback": [
        "\u001b[1;31m---------------------------------------------------------------------------\u001b[0m\n\u001b[1;31mNameError\u001b[0m                                 Traceback (most recent call last)",
        "\u001b[1;32m<ipython-input-5-e50523827e68>\u001b[0m in \u001b[0;36m<module>\u001b[1;34m()\u001b[0m\n\u001b[0;32m     20\u001b[0m \u001b[1;33m\u001b[0m\u001b[0m\n\u001b[0;32m     21\u001b[0m \u001b[0mreload\u001b[0m\u001b[1;33m(\u001b[0m\u001b[0mans\u001b[0m\u001b[1;33m)\u001b[0m\u001b[1;33m\u001b[0m\u001b[0m\n\u001b[1;32m---> 22\u001b[1;33m \u001b[0mxtr_dtaset\u001b[0m \u001b[1;33m=\u001b[0m \u001b[0mextract_dataset\u001b[0m\u001b[1;33m(\u001b[0m\u001b[0mmeta\u001b[0m\u001b[1;33m)\u001b[0m\u001b[1;33m\u001b[0m\u001b[0m\n\u001b[0m\u001b[0;32m     23\u001b[0m \u001b[1;33m\u001b[0m\u001b[0m\n\u001b[0;32m     24\u001b[0m \u001b[0mX\u001b[0m \u001b[1;33m=\u001b[0m \u001b[0mxtr_dtaset\u001b[0m\u001b[1;33m[\u001b[0m\u001b[1;36m0\u001b[0m\u001b[1;33m]\u001b[0m\u001b[1;31m#features\u001b[0m\u001b[1;33m\u001b[0m\u001b[0m\n",
        "\u001b[1;31mNameError\u001b[0m: name 'extract_dataset' is not defined"
       ]
      }
     ],
     "prompt_number": 5
    },
    {
     "cell_type": "code",
     "collapsed": false,
     "input": [],
     "language": "python",
     "metadata": {},
     "outputs": []
    }
   ],
   "metadata": {}
  }
 ]
}