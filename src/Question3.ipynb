{
 "metadata": {
  "name": "",
  "signature": "sha256:c6528f2b59eff874f00b4d0d429c1ae3ea4cb8053cc4cc822916debd9ecd1ae2"
 },
 "nbformat": 3,
 "nbformat_minor": 0,
 "worksheets": [
  {
   "cells": [
    {
     "cell_type": "markdown",
     "metadata": {},
     "source": [
      "# Question3\n",
      "## Use the features to train and evaluate a k-NN classifier\n",
      "This involves :\n",
      "\n",
      "    Compute the feature vector of each image (by concatenating individual features of the image).\n",
      "    Build a $n$ x $m$ data matrix $X$ with the feature vectors of all the images, where $n$ is the number of images and $m$ the number of features.\n",
      "    Build an integer vector of length $n$, $y$, containing the target class for each image. sklearn.preprocessing.LabelEncoder is useful for converting text labels into integers.\n",
      "    Split your dataset into training and test : X_train, X_test, y_train, y_test. sklearn.cross_validation has useful utility functions for that.\n",
      "    Normalizing your data. sklearn.preprocessing.MinMaxScaler might be useful (or other similar scaler classes)\n",
      "    Build a classifier with sklearn.neighbors.KNeighborsClassifier on your training dataset and evaluate on your test dataset.\n",
      "        this the y_pred = knn.predict(X_test) cell\n",
      "\n",
      "After you have evaluated your model write a short analysis of your results."
     ]
    },
    {
     "cell_type": "code",
     "collapsed": false,
     "input": [
      "import mlbd\n",
      "import answers as ans\n",
      "meta = mlbd.load_meta()\n",
      "%pylab inline --no-import-all"
     ],
     "language": "python",
     "metadata": {},
     "outputs": [
      {
       "output_type": "stream",
       "stream": "stdout",
       "text": [
        "Populating the interactive namespace from numpy and matplotlib\n"
       ]
      }
     ],
     "prompt_number": 1
    },
    {
     "cell_type": "code",
     "collapsed": false,
     "input": [
      "reload(ans)\n"
     ],
     "language": "python",
     "metadata": {},
     "outputs": []
    }
   ],
   "metadata": {}
  }
 ]
}